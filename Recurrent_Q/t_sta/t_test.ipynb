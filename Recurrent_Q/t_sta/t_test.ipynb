{
 "cells": [
  {
   "cell_type": "code",
   "execution_count": 21,
   "metadata": {},
   "outputs": [],
   "source": [
    "import numpy as np\n",
    "from scipy import stats\n",
    "import matplotlib.pyplot as plt\n",
    "from matplotlib import rcParams\n",
    "rcParams['font.family'] = 'sans-serif'\n",
    "rcParams['font.sans-serif'] = ['Hiragino Maru Gothic Pro', 'Yu Gothic', 'Meirio', 'Takao', 'IPAexGothic', 'IPAPGothic', 'VL PGothic', 'Noto Sans CJK JP']"
   ]
  },
  {
   "cell_type": "code",
   "execution_count": 22,
   "metadata": {},
   "outputs": [],
   "source": [
    "ac2_rnn_data = np.load(\"2ac_rnn_stadata.npy\")\n",
    "ac4_rnn_data = np.load(\"4ac_rnn_stadata.npy\")\n",
    "ac2_q_data = np.load(\"2ac_q_stadata.npy\")\n",
    "ac4_q_data = np.load(\"4ac_q_stadata.npy\")"
   ]
  },
  {
   "cell_type": "code",
   "execution_count": 23,
   "metadata": {},
   "outputs": [],
   "source": [
    "ac2_rnn_mean = ac2_rnn_data.mean(axis=0)\n",
    "ac2_rnn_mean_mean = ac2_rnn_mean.mean(axis=0)\n",
    "ac2_rnn_std_std = ac2_rnn_data.std(axis=0).std(axis=0)\n",
    "\n",
    "ac4_rnn_mean = ac4_rnn_data.mean(axis=0)\n",
    "ac4_rnn_mean_mean = ac4_rnn_mean.mean(axis=0)\n",
    "ac4_rnn_std_std = ac4_rnn_data.std(axis=0).std(axis=0)\n",
    "\n",
    "ac2_q_mean = ac2_q_data.mean(axis=0)\n",
    "ac2_q_mean_mean = ac2_q_mean.mean(axis=0)\n",
    "ac2_q_std_std = ac2_q_data.std(axis=0).std(axis=0)\n",
    "\n",
    "ac4_q_mean = ac4_q_data.mean(axis=0)\n",
    "ac4_q_mean_mean = ac4_q_mean.mean(axis=0)\n",
    "ac4_q_std_std = ac4_q_data.std(axis=0).std(axis=0)"
   ]
  },
  {
   "cell_type": "code",
   "execution_count": 24,
   "metadata": {},
   "outputs": [
    {
     "data": {
      "image/png": "[encoded data removed]",
      "text/plain": [
       "<Figure size 432x288 with 1 Axes>"
      ]
     },
     "metadata": {
      "needs_background": "light"
     },
     "output_type": "display_data"
    }
   ],
   "source": [
    "fig, ax = plt.subplots(nrows=1, ncols=1)\n",
    "\n",
    "ax.set_ylim(0, 60)\n",
    "ax.set_xticks([0.45, 2.45, 4.45])\n",
    "ax.set_xticklabels([0, 1, 2])\n",
    "ax.set_xlabel(\"協力人数\")\n",
    "ax.set_ylabel(\"集まった回数\")\n",
    "\n",
    "\n",
    "ax.bar([0, 2, 4], ac4_q_mean_mean, width=0.3, label='Q help')\n",
    "ax.bar([0.3, 2.3, 4.3], ac2_q_mean_mean, width=0.3, label='Q non_help')\n",
    "ax.bar([0.6, 2.6, 4.6], ac4_rnn_mean_mean, width=0.3, label='rnn-Q help')\n",
    "ax.bar([0.9, 2.9, 4.9], ac2_rnn_mean_mean, width=0.3, label='rnn-Q non_help')\n",
    "\n",
    "ax.errorbar([0, 2, 4], ac4_q_mean_mean, ac4_q_std_std, linestyle='None', marker='', color='black', capsize=4)\n",
    "ax.errorbar([0.3, 2.3, 4.3], ac2_q_mean_mean, ac2_q_std_std, linestyle='None', marker='', color='black', capsize=4)\n",
    "ax.errorbar([0.6, 2.6, 4.6], ac4_rnn_mean_mean, ac4_rnn_std_std, linestyle='None', marker='', color='black', capsize=4)\n",
    "ax.errorbar([0.9, 2.9, 4.9], ac2_rnn_mean_mean, ac2_rnn_std_std, linestyle='None', marker='', color='black', capsize=4)\n",
    "\n",
    "fig.legend(loc='upper right', bbox_to_anchor = (0.97, 0.98), borderaxespad=3, fontsize=10)\n",
    "fig.savefig(\"sample.png\", bbox_inches=\"tight\", pad_inches=0.05, dpi=200)"
   ]
  },
  {
   "cell_type": "code",
   "execution_count": 27,
   "metadata": {},
   "outputs": [
    {
     "data": {
      "text/plain": [
       "Ttest_relResult(statistic=-1.1771168646784993, pvalue=0.2448351517654141)"
      ]
     },
     "execution_count": 27,
     "metadata": {},
     "output_type": "execute_result"
    }
   ],
   "source": [
    "stats.ttest_rel(ac2_rnn_data[:, 0, 0].flatten(), ac4_rnn_data[:, 0, 0].flatten())"
   ]
  },
  {
   "cell_type": "code",
   "execution_count": 28,
   "metadata": {},
   "outputs": [
    {
     "data": {
      "text/plain": [
       "Ttest_indResult(statistic=-1.261904272024104, pvalue=0.20797000862804993)"
      ]
     },
     "execution_count": 28,
     "metadata": {},
     "output_type": "execute_result"
    }
   ],
   "source": [
    "# welchのt検定\n",
    "# Q-4acとQ-2ac\n",
    "# 0人\n",
    "num_coop = 0\n",
    "x = np.concatenate([ac2_q_data[:, 0, num_coop].flatten(), ac2_q_data[:, 1, num_coop].flatten(), ac2_q_data[:, 2, num_coop].flatten()], 0)\n",
    "y = np.concatenate([ac4_q_data[:, 0, num_coop].flatten(), ac4_q_data[:, 1, num_coop].flatten(), ac4_q_data[:, 2, num_coop].flatten()], 0)\n",
    "stats.ttest_ind(x, y, equal_var='False')"
   ]
  },
  {
   "cell_type": "code",
   "execution_count": 29,
   "metadata": {},
   "outputs": [
    {
     "data": {
      "text/plain": [
       "Ttest_indResult(statistic=2.097548197035015, pvalue=0.03678727951563818)"
      ]
     },
     "execution_count": 29,
     "metadata": {},
     "output_type": "execute_result"
    }
   ],
   "source": [
    "# Q-4acとQ-2ac\n",
    "# 1人\n",
    "num_coop = 1\n",
    "x = np.concatenate([ac2_q_data[:, 0, num_coop].flatten(), ac2_q_data[:, 1, num_coop].flatten(), ac2_q_data[:, 2, num_coop].flatten()], 0)\n",
    "y = np.concatenate([ac4_q_data[:, 0, num_coop].flatten(), ac4_q_data[:, 1, num_coop].flatten(), ac4_q_data[:, 2, num_coop].flatten()], 0)\n",
    "stats.ttest_ind(x, y, equal_var='False')"
   ]
  },
  {
   "cell_type": "code",
   "execution_count": 30,
   "metadata": {},
   "outputs": [
    {
     "data": {
      "text/plain": [
       "Ttest_indResult(statistic=-1.2939595487811781, pvalue=0.19668132704896515)"
      ]
     },
     "execution_count": 30,
     "metadata": {},
     "output_type": "execute_result"
    }
   ],
   "source": [
    "# Q-4acとQ-2ac\n",
    "# 2人\n",
    "num_coop = 2\n",
    "x = np.concatenate([ac2_q_data[:, 0, num_coop].flatten(), ac2_q_data[:, 1, num_coop].flatten(), ac2_q_data[:, 2, num_coop].flatten()], 0)\n",
    "y = np.concatenate([ac4_q_data[:, 0, num_coop].flatten(), ac4_q_data[:, 1, num_coop].flatten(), ac4_q_data[:, 2, num_coop].flatten()], 0)\n",
    "stats.ttest_ind(x, y, equal_var='False')"
   ]
  },
  {
   "cell_type": "code",
   "execution_count": 31,
   "metadata": {},
   "outputs": [
    {
     "data": {
      "text/plain": [
       "Ttest_indResult(statistic=-1.0838775865845522, pvalue=0.27929522547274893)"
      ]
     },
     "execution_count": 31,
     "metadata": {},
     "output_type": "execute_result"
    }
   ],
   "source": [
    "# Q-4acとrnn-2ac\n",
    "# 0人\n",
    "num_coop = 0\n",
    "x = np.concatenate([ac2_rnn_data[:, 0, num_coop].flatten(), ac2_rnn_data[:, 1, num_coop].flatten(), ac2_rnn_data[:, 2, num_coop].flatten()], 0)\n",
    "y = np.concatenate([ac4_q_data[:, 0, num_coop].flatten(), ac4_q_data[:, 1, num_coop].flatten(), ac4_q_data[:, 2, num_coop].flatten()], 0)\n",
    "stats.ttest_ind(x, y, equal_var='False')"
   ]
  },
  {
   "cell_type": "code",
   "execution_count": 32,
   "metadata": {},
   "outputs": [
    {
     "data": {
      "text/plain": [
       "Ttest_indResult(statistic=1.7544884527891673, pvalue=0.08037461459287676)"
      ]
     },
     "execution_count": 32,
     "metadata": {},
     "output_type": "execute_result"
    }
   ],
   "source": [
    "# Q-4acとrnn-2ac\n",
    "# 0人\n",
    "num_coop = 1\n",
    "x = np.concatenate([ac2_rnn_data[:, 0, num_coop].flatten(), ac2_rnn_data[:, 1, num_coop].flatten(), ac2_rnn_data[:, 2, num_coop].flatten()], 0)\n",
    "y = np.concatenate([ac4_q_data[:, 0, num_coop].flatten(), ac4_q_data[:, 1, num_coop].flatten(), ac4_q_data[:, 2, num_coop].flatten()], 0)\n",
    "stats.ttest_ind(x, y, equal_var='False')"
   ]
  },
  {
   "cell_type": "code",
   "execution_count": 33,
   "metadata": {},
   "outputs": [
    {
     "data": {
      "text/plain": [
       "Ttest_indResult(statistic=-1.08938866948026, pvalue=0.2768626887240874)"
      ]
     },
     "execution_count": 33,
     "metadata": {},
     "output_type": "execute_result"
    }
   ],
   "source": [
    "# Q-4acとrnn-2ac\n",
    "# 0人\n",
    "num_coop = 2\n",
    "x = np.concatenate([ac2_rnn_data[:, 0, num_coop].flatten(), ac2_rnn_data[:, 1, num_coop].flatten(), ac2_rnn_data[:, 2, num_coop].flatten()], 0)\n",
    "y = np.concatenate([ac4_q_data[:, 0, num_coop].flatten(), ac4_q_data[:, 1, num_coop].flatten(), ac4_q_data[:, 2, num_coop].flatten()], 0)\n",
    "stats.ttest_ind(x, y, equal_var='False')"
   ]
  },
  {
   "cell_type": "code",
   "execution_count": 34,
   "metadata": {},
   "outputs": [
    {
     "data": {
      "text/plain": [
       "Ttest_indResult(statistic=-0.46897966442849354, pvalue=0.6394270793185033)"
      ]
     },
     "execution_count": 34,
     "metadata": {},
     "output_type": "execute_result"
    }
   ],
   "source": [
    "# Q-4acとrnn-4ac\n",
    "# 0人\n",
    "num_coop = 0\n",
    "x = np.concatenate([ac4_rnn_data[:, 0, num_coop].flatten(), ac4_rnn_data[:, 1, num_coop].flatten(), ac4_rnn_data[:, 2, num_coop].flatten()], 0)\n",
    "y = np.concatenate([ac4_q_data[:, 0, num_coop].flatten(), ac4_q_data[:, 1, num_coop].flatten(), ac4_q_data[:, 2, num_coop].flatten()], 0)\n",
    "stats.ttest_ind(x, y, equal_var='False')"
   ]
  },
  {
   "cell_type": "code",
   "execution_count": 35,
   "metadata": {},
   "outputs": [
    {
     "data": {
      "text/plain": [
       "Ttest_indResult(statistic=0.7947713866056315, pvalue=0.42737900769554393)"
      ]
     },
     "execution_count": 35,
     "metadata": {},
     "output_type": "execute_result"
    }
   ],
   "source": [
    "# Q-4acとrnn-4ac\n",
    "# 0人\n",
    "num_coop = 1\n",
    "x = np.concatenate([ac4_rnn_data[:, 0, num_coop].flatten(), ac4_rnn_data[:, 1, num_coop].flatten(), ac4_rnn_data[:, 2, num_coop].flatten()], 0)\n",
    "y = np.concatenate([ac4_q_data[:, 0, num_coop].flatten(), ac4_q_data[:, 1, num_coop].flatten(), ac4_q_data[:, 2, num_coop].flatten()], 0)\n",
    "stats.ttest_ind(x, y, equal_var='False')"
   ]
  },
  {
   "cell_type": "code",
   "execution_count": 36,
   "metadata": {},
   "outputs": [
    {
     "data": {
      "text/plain": [
       "Ttest_indResult(statistic=-0.47133277111024013, pvalue=0.637747987974526)"
      ]
     },
     "execution_count": 36,
     "metadata": {},
     "output_type": "execute_result"
    }
   ],
   "source": [
    "# Q-4acとrnn-4ac\n",
    "# 0人\n",
    "num_coop = 2\n",
    "x = np.concatenate([ac4_rnn_data[:, 0, num_coop].flatten(), ac4_rnn_data[:, 1, num_coop].flatten(), ac4_rnn_data[:, 2, num_coop].flatten()], 0)\n",
    "y = np.concatenate([ac4_q_data[:, 0, num_coop].flatten(), ac4_q_data[:, 1, num_coop].flatten(), ac4_q_data[:, 2, num_coop].flatten()], 0)\n",
    "stats.ttest_ind(x, y, equal_var='False')"
   ]
  },
  {
   "cell_type": "code",
   "execution_count": 37,
   "metadata": {},
   "outputs": [
    {
     "data": {
      "text/plain": [
       "Ttest_indResult(statistic=0.24491001580345187, pvalue=0.8066946655461354)"
      ]
     },
     "execution_count": 37,
     "metadata": {},
     "output_type": "execute_result"
    }
   ],
   "source": [
    "# Q-2acとrnn-2ac\n",
    "# 0人\n",
    "num_coop = 0\n",
    "x = np.concatenate([ac2_rnn_data[:, 0, num_coop].flatten(), ac2_rnn_data[:, 1, num_coop].flatten(), ac2_rnn_data[:, 2, num_coop].flatten()], 0)\n",
    "y = np.concatenate([ac2_q_data[:, 0, num_coop].flatten(), ac2_q_data[:, 1, num_coop].flatten(), ac2_q_data[:, 2, num_coop].flatten()], 0)\n",
    "stats.ttest_ind(x, y, equal_var='False')"
   ]
  },
  {
   "cell_type": "code",
   "execution_count": 38,
   "metadata": {},
   "outputs": [
    {
     "data": {
      "text/plain": [
       "Ttest_indResult(statistic=-0.4128528114948159, pvalue=0.6800113410116686)"
      ]
     },
     "execution_count": 38,
     "metadata": {},
     "output_type": "execute_result"
    }
   ],
   "source": [
    "# Q-2acとrnn-2ac\n",
    "# 1人\n",
    "num_coop = 1\n",
    "x = np.concatenate([ac2_rnn_data[:, 0, num_coop].flatten(), ac2_rnn_data[:, 1, num_coop].flatten(), ac2_rnn_data[:, 2, num_coop].flatten()], 0)\n",
    "y = np.concatenate([ac2_q_data[:, 0, num_coop].flatten(), ac2_q_data[:, 1, num_coop].flatten(), ac2_q_data[:, 2, num_coop].flatten()], 0)\n",
    "stats.ttest_ind(x, y, equal_var='False')"
   ]
  },
  {
   "cell_type": "code",
   "execution_count": 39,
   "metadata": {},
   "outputs": [
    {
     "data": {
      "text/plain": [
       "Ttest_indResult(statistic=0.24666311688338718, pvalue=0.8053387836884228)"
      ]
     },
     "execution_count": 39,
     "metadata": {},
     "output_type": "execute_result"
    }
   ],
   "source": [
    "# Q-2acとrnn-2ac\n",
    "# 2人\n",
    "num_coop = 2\n",
    "x = np.concatenate([ac2_rnn_data[:, 0, num_coop].flatten(), ac2_rnn_data[:, 1, num_coop].flatten(), ac2_rnn_data[:, 2, num_coop].flatten()], 0)\n",
    "y = np.concatenate([ac2_q_data[:, 0, num_coop].flatten(), ac2_q_data[:, 1, num_coop].flatten(), ac2_q_data[:, 2, num_coop].flatten()], 0)\n",
    "stats.ttest_ind(x, y, equal_var='False')"
   ]
  },
  {
   "cell_type": "code",
   "execution_count": 40,
   "metadata": {},
   "outputs": [
    {
     "data": {
      "text/plain": [
       "Ttest_indResult(statistic=0.7701035038723466, pvalue=0.44184854819353536)"
      ]
     },
     "execution_count": 40,
     "metadata": {},
     "output_type": "execute_result"
    }
   ],
   "source": [
    "# Q-2acとrnn-4ac\n",
    "# 0人\n",
    "num_coop = 0\n",
    "x = np.concatenate([ac4_rnn_data[:, 0, num_coop].flatten(), ac4_rnn_data[:, 1, num_coop].flatten(), ac4_rnn_data[:, 2, num_coop].flatten()], 0)\n",
    "y = np.concatenate([ac2_q_data[:, 0, num_coop].flatten(), ac2_q_data[:, 1, num_coop].flatten(), ac2_q_data[:, 2, num_coop].flatten()], 0)\n",
    "stats.ttest_ind(x, y, equal_var='False')"
   ]
  },
  {
   "cell_type": "code",
   "execution_count": 41,
   "metadata": {},
   "outputs": [
    {
     "data": {
      "text/plain": [
       "Ttest_indResult(statistic=-1.3522637543457163, pvalue=0.1773162536183251)"
      ]
     },
     "execution_count": 41,
     "metadata": {},
     "output_type": "execute_result"
    }
   ],
   "source": [
    "# Q-2acとrnn-4ac\n",
    "# 1人\n",
    "num_coop = 1\n",
    "x = np.concatenate([ac4_rnn_data[:, 0, num_coop].flatten(), ac4_rnn_data[:, 1, num_coop].flatten(), ac4_rnn_data[:, 2, num_coop].flatten()], 0)\n",
    "y = np.concatenate([ac2_q_data[:, 0, num_coop].flatten(), ac2_q_data[:, 1, num_coop].flatten(), ac2_q_data[:, 2, num_coop].flatten()], 0)\n",
    "stats.ttest_ind(x, y, equal_var='False')"
   ]
  },
  {
   "cell_type": "code",
   "execution_count": 42,
   "metadata": {},
   "outputs": [
    {
     "data": {
      "text/plain": [
       "Ttest_indResult(statistic=0.7754418393402694, pvalue=0.43869353666759203)"
      ]
     },
     "execution_count": 42,
     "metadata": {},
     "output_type": "execute_result"
    }
   ],
   "source": [
    "# Q-2acとrnn-4ac\n",
    "# 2人\n",
    "num_coop = 2\n",
    "x = np.concatenate([ac4_rnn_data[:, 0, num_coop].flatten(), ac4_rnn_data[:, 1, num_coop].flatten(), ac4_rnn_data[:, 2, num_coop].flatten()], 0)\n",
    "y = np.concatenate([ac2_q_data[:, 0, num_coop].flatten(), ac2_q_data[:, 1, num_coop].flatten(), ac2_q_data[:, 2, num_coop].flatten()], 0)\n",
    "stats.ttest_ind(x, y, equal_var='False')"
   ]
  },
  {
   "cell_type": "code",
   "execution_count": 43,
   "metadata": {},
   "outputs": [
    {
     "data": {
      "text/plain": [
       "Ttest_indResult(statistic=0.5671388442934753, pvalue=0.5710468093153549)"
      ]
     },
     "execution_count": 43,
     "metadata": {},
     "output_type": "execute_result"
    }
   ],
   "source": [
    "# rnn-2acとrnn-4ac\n",
    "# 0人\n",
    "num_coop = 0\n",
    "x = np.concatenate([ac4_rnn_data[:, 0, num_coop].flatten(), ac4_rnn_data[:, 1, num_coop].flatten(), ac4_rnn_data[:, 2, num_coop].flatten()], 0)\n",
    "y = np.concatenate([ac2_rnn_data[:, 0, num_coop].flatten(), ac2_rnn_data[:, 1, num_coop].flatten(), ac2_rnn_data[:, 2, num_coop].flatten()], 0)\n",
    "stats.ttest_ind(x, y, equal_var='False')"
   ]
  },
  {
   "cell_type": "code",
   "execution_count": 44,
   "metadata": {},
   "outputs": [
    {
     "data": {
      "text/plain": [
       "Ttest_indResult(statistic=-0.9758693679150642, pvalue=0.32992070964851417)"
      ]
     },
     "execution_count": 44,
     "metadata": {},
     "output_type": "execute_result"
    }
   ],
   "source": [
    "# rnn-2acとrnn-4ac\n",
    "# 1人\n",
    "num_coop = 1\n",
    "x = np.concatenate([ac4_rnn_data[:, 0, num_coop].flatten(), ac4_rnn_data[:, 1, num_coop].flatten(), ac4_rnn_data[:, 2, num_coop].flatten()], 0)\n",
    "y = np.concatenate([ac2_rnn_data[:, 0, num_coop].flatten(), ac2_rnn_data[:, 1, num_coop].flatten(), ac2_rnn_data[:, 2, num_coop].flatten()], 0)\n",
    "stats.ttest_ind(x, y, equal_var='False')"
   ]
  },
  {
   "cell_type": "code",
   "execution_count": 45,
   "metadata": {},
   "outputs": [
    {
     "data": {
      "text/plain": [
       "Ttest_indResult(statistic=0.5598529615965029, pvalue=0.5760003125048004)"
      ]
     },
     "execution_count": 45,
     "metadata": {},
     "output_type": "execute_result"
    }
   ],
   "source": [
    "# rnn-2acとrnn-4ac\n",
    "# 2人\n",
    "num_coop = 2\n",
    "x = np.concatenate([ac4_rnn_data[:, 0, num_coop].flatten(), ac4_rnn_data[:, 1, num_coop].flatten(), ac4_rnn_data[:, 2, num_coop].flatten()], 0)\n",
    "y = np.concatenate([ac2_rnn_data[:, 0, num_coop].flatten(), ac2_rnn_data[:, 1, num_coop].flatten(), ac2_rnn_data[:, 2, num_coop].flatten()], 0)\n",
    "stats.ttest_ind(x, y, equal_var='False')"
   ]
  },
  {
   "cell_type": "code",
   "execution_count": null,
   "metadata": {},
   "outputs": [],
   "source": []
  }
 ],
 "metadata": {
  "kernelspec": {
   "display_name": "Python 3",
   "language": "python",
   "name": "python3"
  },
  "language_info": {
   "codemirror_mode": {
    "name": "ipython",
    "version": 3
   },
   "file_extension": ".py",
   "mimetype": "text/x-python",
   "name": "python",
   "nbconvert_exporter": "python",
   "pygments_lexer": "ipython3",
   "version": "3.8.5"
  }
 },
 "nbformat": 4,
 "nbformat_minor": 4
}
